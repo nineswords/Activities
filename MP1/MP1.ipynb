{
 "cells": [
  {
   "cell_type": "code",
   "execution_count": 3,
   "id": "003dd072",
   "metadata": {},
   "outputs": [
    {
     "name": "stdout",
     "output_type": "stream",
     "text": [
      "0 #indicator+code #indicator+name\n",
      "1 pnchome3 Postnatal care visit within two days of birth - born outside a health facility (in the three years preceding the survey) (%)\n",
      "2 pnchome3 Postnatal care visit within two days of birth - born outside a health facility (in the three years preceding the survey) (%)\n",
      "3 pnchome5 Postnatal care visit within two days of birth - born outside a health facility (in the five years preceding the survey) (%)\n",
      "4 pnchome5 Postnatal care visit within two days of birth - born outside a health facility (in the five years preceding the survey) (%)\n",
      "5 pncall5 Postnatal care visit within two days of birth (in the five years preceding the survey) (%)\n",
      "6 pnchome3 Postnatal care visit within two days of birth - born outside a health facility (in the three years preceding the survey) (%)\n",
      "7 pnchome3 Postnatal care visit within two days of birth - born outside a health facility (in the three years preceding the survey) (%)\n",
      "8 pnchome3 Postnatal care visit within two days of birth - born outside a health facility (in the three years preceding the survey) (%)\n",
      "9 pnchome5 Postnatal care visit within two days of birth - born outside a health facility (in the five years preceding the survey) (%)\n"
     ]
    }
   ],
   "source": [
    "import csv\n",
    "from itertools import islice\n",
    "\n",
    "# Open the CSV file\n",
    "# Change the CSV file child-health-indicators-for-philippines-41.csv\n",
    "with open('child-health-indicators-for-philippines-41.csv', 'r') as file:\n",
    "    # Create a CSV reader object using DictReader\n",
    "    reader = csv.DictReader(file)\n",
    "\n",
    "    # Use islice to limit the number of rows to 10\n",
    "    limited_csv_data = list(islice(reader, 10))\n",
    "\n",
    "# Access the limited CSV data\n",
    "for row in limited_csv_data:\n",
    "    # Access the values using column names\n",
    "    value1 = row['index']\n",
    "    value2 = row['GHO (CODE)']\n",
    "    value3 = row['GHO (DISPLAY)']\n",
    "    # ...\n",
    "\n",
    "    # Do something with the values\n",
    "    print(value1, value2, value3)\n"
   ]
  },
  {
   "cell_type": "code",
   "execution_count": null,
   "id": "4ac3fff4",
   "metadata": {},
   "outputs": [],
   "source": []
  }
 ],
 "metadata": {
  "kernelspec": {
   "display_name": "Python 3 (ipykernel)",
   "language": "python",
   "name": "python3"
  },
  "language_info": {
   "codemirror_mode": {
    "name": "ipython",
    "version": 3
   },
   "file_extension": ".py",
   "mimetype": "text/x-python",
   "name": "python",
   "nbconvert_exporter": "python",
   "pygments_lexer": "ipython3",
   "version": "3.9.7"
  }
 },
 "nbformat": 4,
 "nbformat_minor": 5
}
